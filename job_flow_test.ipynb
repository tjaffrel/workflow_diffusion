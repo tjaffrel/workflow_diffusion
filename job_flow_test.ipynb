{
 "cells": [
  {
   "cell_type": "code",
   "execution_count": 2,
   "metadata": {},
   "outputs": [],
   "source": [
    "import quacc\n",
    "import ase\n",
    "from quacc import SETTINGS\n",
    "import os"
   ]
  },
  {
   "cell_type": "code",
   "execution_count": 14,
   "metadata": {},
   "outputs": [
    {
     "name": "stdout",
     "output_type": "stream",
     "text": [
      "2024-05-07 11:28:55,166 INFO Started executing jobs locally\n",
      "2024-05-07 11:28:55,168 INFO Starting job - relax_job (a7140e00-1805-4299-b86b-91db1c9cb8e4)\n"
     ]
    },
    {
     "ename": "KeyboardInterrupt",
     "evalue": "",
     "output_type": "error",
     "traceback": [
      "\u001b[0;31m---------------------------------------------------------------------------\u001b[0m",
      "\u001b[0;31mKeyboardInterrupt\u001b[0m                         Traceback (most recent call last)",
      "Cell \u001b[0;32mIn[14], line 24\u001b[0m\n\u001b[1;32m     22\u001b[0m atoms \u001b[38;5;241m=\u001b[39m read(\u001b[38;5;124m'\u001b[39m\u001b[38;5;124mNaCl_noise.cif\u001b[39m\u001b[38;5;124m'\u001b[39m)\n\u001b[1;32m     23\u001b[0m relaxation \u001b[38;5;241m=\u001b[39m relaxation_dftb_plus(atoms)\n\u001b[0;32m---> 24\u001b[0m result \u001b[38;5;241m=\u001b[39m \u001b[43mrun_locally\u001b[49m\u001b[43m(\u001b[49m\u001b[43mrelaxation\u001b[49m\u001b[43m)\u001b[49m\n\u001b[1;32m     25\u001b[0m \u001b[38;5;28mprint\u001b[39m(result[\u001b[38;5;28mlist\u001b[39m(result)[\u001b[38;5;241m0\u001b[39m]][\u001b[38;5;241m1\u001b[39m]\u001b[38;5;241m.\u001b[39moutput)\n\u001b[1;32m     26\u001b[0m \u001b[38;5;66;03m# flow = ([relaxation])\u001b[39;00m\n",
      "File \u001b[0;32m~/miniconda3/envs/material_project/lib/python3.12/site-packages/jobflow/managers/local.py:175\u001b[0m, in \u001b[0;36mrun_locally\u001b[0;34m(flow, log, store, create_folders, root_dir, ensure_success, allow_external_references, raise_immediately)\u001b[0m\n\u001b[1;32m    172\u001b[0m     \u001b[38;5;28;01mreturn\u001b[39;00m \u001b[38;5;129;01mnot\u001b[39;00m encountered_bad_response\n\u001b[1;32m    174\u001b[0m logger\u001b[38;5;241m.\u001b[39minfo(\u001b[38;5;124m\"\u001b[39m\u001b[38;5;124mStarted executing jobs locally\u001b[39m\u001b[38;5;124m\"\u001b[39m)\n\u001b[0;32m--> 175\u001b[0m finished_successfully \u001b[38;5;241m=\u001b[39m \u001b[43m_run\u001b[49m\u001b[43m(\u001b[49m\u001b[43mflow\u001b[49m\u001b[43m)\u001b[49m\n\u001b[1;32m    176\u001b[0m logger\u001b[38;5;241m.\u001b[39minfo(\u001b[38;5;124m\"\u001b[39m\u001b[38;5;124mFinished executing jobs locally\u001b[39m\u001b[38;5;124m\"\u001b[39m)\n\u001b[1;32m    178\u001b[0m \u001b[38;5;28;01mif\u001b[39;00m ensure_success \u001b[38;5;129;01mand\u001b[39;00m \u001b[38;5;129;01mnot\u001b[39;00m finished_successfully:\n",
      "File \u001b[0;32m~/miniconda3/envs/material_project/lib/python3.12/site-packages/jobflow/managers/local.py:166\u001b[0m, in \u001b[0;36mrun_locally.<locals>._run\u001b[0;34m(root_flow)\u001b[0m\n\u001b[1;32m    164\u001b[0m job_dir \u001b[38;5;241m=\u001b[39m _get_job_dir()\n\u001b[1;32m    165\u001b[0m \u001b[38;5;28;01mwith\u001b[39;00m cd(job_dir):\n\u001b[0;32m--> 166\u001b[0m     response, jobflow_stopped \u001b[38;5;241m=\u001b[39m \u001b[43m_run_job\u001b[49m\u001b[43m(\u001b[49m\u001b[43mjob\u001b[49m\u001b[43m,\u001b[49m\u001b[43m \u001b[49m\u001b[43mparents\u001b[49m\u001b[43m)\u001b[49m\n\u001b[1;32m    168\u001b[0m encountered_bad_response \u001b[38;5;241m=\u001b[39m encountered_bad_response \u001b[38;5;129;01mor\u001b[39;00m response \u001b[38;5;129;01mis\u001b[39;00m \u001b[38;5;28;01mNone\u001b[39;00m\n\u001b[1;32m    169\u001b[0m \u001b[38;5;28;01mif\u001b[39;00m jobflow_stopped:\n",
      "File \u001b[0;32m~/miniconda3/envs/material_project/lib/python3.12/site-packages/jobflow/managers/local.py:114\u001b[0m, in \u001b[0;36mrun_locally.<locals>._run_job\u001b[0;34m(job, parents)\u001b[0m\n\u001b[1;32m    112\u001b[0m \u001b[38;5;28;01melse\u001b[39;00m:\n\u001b[1;32m    113\u001b[0m     \u001b[38;5;28;01mtry\u001b[39;00m:\n\u001b[0;32m--> 114\u001b[0m         response \u001b[38;5;241m=\u001b[39m \u001b[43mjob\u001b[49m\u001b[38;5;241;43m.\u001b[39;49m\u001b[43mrun\u001b[49m\u001b[43m(\u001b[49m\u001b[43mstore\u001b[49m\u001b[38;5;241;43m=\u001b[39;49m\u001b[43mstore\u001b[49m\u001b[43m)\u001b[49m\n\u001b[1;32m    115\u001b[0m     \u001b[38;5;28;01mexcept\u001b[39;00m \u001b[38;5;167;01mException\u001b[39;00m:\n\u001b[1;32m    116\u001b[0m         \u001b[38;5;28;01mimport\u001b[39;00m \u001b[38;5;21;01mtraceback\u001b[39;00m\n",
      "File \u001b[0;32m~/miniconda3/envs/material_project/lib/python3.12/site-packages/jobflow/core/job.py:583\u001b[0m, in \u001b[0;36mJob.run\u001b[0;34m(self, store)\u001b[0m\n\u001b[1;32m    580\u001b[0m \u001b[38;5;28;01mif\u001b[39;00m bound \u001b[38;5;129;01mis\u001b[39;00m \u001b[38;5;129;01mnot\u001b[39;00m \u001b[38;5;28;01mNone\u001b[39;00m \u001b[38;5;129;01mand\u001b[39;00m \u001b[38;5;129;01mnot\u001b[39;00m \u001b[38;5;28misinstance\u001b[39m(bound, types\u001b[38;5;241m.\u001b[39mModuleType):\n\u001b[1;32m    581\u001b[0m     function \u001b[38;5;241m=\u001b[39m types\u001b[38;5;241m.\u001b[39mMethodType(function, bound)\n\u001b[0;32m--> 583\u001b[0m response \u001b[38;5;241m=\u001b[39m \u001b[43mfunction\u001b[49m\u001b[43m(\u001b[49m\u001b[38;5;241;43m*\u001b[39;49m\u001b[38;5;28;43mself\u001b[39;49m\u001b[38;5;241;43m.\u001b[39;49m\u001b[43mfunction_args\u001b[49m\u001b[43m,\u001b[49m\u001b[43m \u001b[49m\u001b[38;5;241;43m*\u001b[39;49m\u001b[38;5;241;43m*\u001b[39;49m\u001b[38;5;28;43mself\u001b[39;49m\u001b[38;5;241;43m.\u001b[39;49m\u001b[43mfunction_kwargs\u001b[49m\u001b[43m)\u001b[49m\n\u001b[1;32m    584\u001b[0m response \u001b[38;5;241m=\u001b[39m Response\u001b[38;5;241m.\u001b[39mfrom_job_returns(response, \u001b[38;5;28mself\u001b[39m\u001b[38;5;241m.\u001b[39moutput_schema)\n\u001b[1;32m    586\u001b[0m \u001b[38;5;28;01mif\u001b[39;00m response\u001b[38;5;241m.\u001b[39mreplace \u001b[38;5;129;01mis\u001b[39;00m \u001b[38;5;129;01mnot\u001b[39;00m \u001b[38;5;28;01mNone\u001b[39;00m:\n",
      "File \u001b[0;32m~/miniconda3/envs/material_project/lib/python3.12/site-packages/quacc/recipes/dftb/core.py:120\u001b[0m, in \u001b[0;36mrelax_job\u001b[0;34m(atoms, method, kpts, relax_cell, copy_files, **calc_kwargs)\u001b[0m\n\u001b[1;32m    117\u001b[0m \u001b[38;5;28;01mif\u001b[39;00m \u001b[38;5;124m\"\u001b[39m\u001b[38;5;124mxtb\u001b[39m\u001b[38;5;124m\"\u001b[39m \u001b[38;5;129;01min\u001b[39;00m method\u001b[38;5;241m.\u001b[39mlower():\n\u001b[1;32m    118\u001b[0m     calc_defaults[\u001b[38;5;124m\"\u001b[39m\u001b[38;5;124mHamiltonian_Method\u001b[39m\u001b[38;5;124m\"\u001b[39m] \u001b[38;5;241m=\u001b[39m method\n\u001b[0;32m--> 120\u001b[0m \u001b[38;5;28;01mreturn\u001b[39;00m \u001b[43mbase_fn\u001b[49m\u001b[43m(\u001b[49m\n\u001b[1;32m    121\u001b[0m \u001b[43m    \u001b[49m\u001b[43matoms\u001b[49m\u001b[43m,\u001b[49m\n\u001b[1;32m    122\u001b[0m \u001b[43m    \u001b[49m\u001b[43mcalc_defaults\u001b[49m\u001b[38;5;241;43m=\u001b[39;49m\u001b[43mcalc_defaults\u001b[49m\u001b[43m,\u001b[49m\n\u001b[1;32m    123\u001b[0m \u001b[43m    \u001b[49m\u001b[43mcalc_swaps\u001b[49m\u001b[38;5;241;43m=\u001b[39;49m\u001b[43mcalc_kwargs\u001b[49m\u001b[43m,\u001b[49m\n\u001b[1;32m    124\u001b[0m \u001b[43m    \u001b[49m\u001b[43madditional_fields\u001b[49m\u001b[38;5;241;43m=\u001b[39;49m\u001b[43m{\u001b[49m\u001b[38;5;124;43m\"\u001b[39;49m\u001b[38;5;124;43mname\u001b[39;49m\u001b[38;5;124;43m\"\u001b[39;49m\u001b[43m:\u001b[49m\u001b[43m \u001b[49m\u001b[38;5;124;43m\"\u001b[39;49m\u001b[38;5;124;43mDFTB+ Relax\u001b[39;49m\u001b[38;5;124;43m\"\u001b[39;49m\u001b[43m}\u001b[49m\u001b[43m,\u001b[49m\n\u001b[1;32m    125\u001b[0m \u001b[43m    \u001b[49m\u001b[43mcopy_files\u001b[49m\u001b[38;5;241;43m=\u001b[39;49m\u001b[43mcopy_files\u001b[49m\u001b[43m,\u001b[49m\n\u001b[1;32m    126\u001b[0m \u001b[43m\u001b[49m\u001b[43m)\u001b[49m\n",
      "File \u001b[0;32m~/miniconda3/envs/material_project/lib/python3.12/site-packages/quacc/recipes/dftb/_base.py:60\u001b[0m, in \u001b[0;36mbase_fn\u001b[0;34m(atoms, calc_defaults, calc_swaps, additional_fields, copy_files)\u001b[0m\n\u001b[1;32m     57\u001b[0m calc_flags \u001b[38;5;241m=\u001b[39m recursive_dict_merge(calc_defaults, calc_swaps)\n\u001b[1;32m     59\u001b[0m atoms\u001b[38;5;241m.\u001b[39mcalc \u001b[38;5;241m=\u001b[39m Dftb(\u001b[38;5;241m*\u001b[39m\u001b[38;5;241m*\u001b[39mcalc_flags)\n\u001b[0;32m---> 60\u001b[0m final_atoms \u001b[38;5;241m=\u001b[39m \u001b[43mrun_calc\u001b[49m\u001b[43m(\u001b[49m\u001b[43matoms\u001b[49m\u001b[43m,\u001b[49m\u001b[43m \u001b[49m\u001b[43mgeom_file\u001b[49m\u001b[38;5;241;43m=\u001b[39;49m\u001b[43mGEOM_FILE\u001b[49m\u001b[43m,\u001b[49m\u001b[43m \u001b[49m\u001b[43mcopy_files\u001b[49m\u001b[38;5;241;43m=\u001b[39;49m\u001b[43mcopy_files\u001b[49m\u001b[43m)\u001b[49m\n\u001b[1;32m     62\u001b[0m \u001b[38;5;28;01mreturn\u001b[39;00m summarize_run(final_atoms, atoms, additional_fields\u001b[38;5;241m=\u001b[39madditional_fields)\n",
      "File \u001b[0;32m~/miniconda3/envs/material_project/lib/python3.12/site-packages/quacc/runners/ase.py:100\u001b[0m, in \u001b[0;36mrun_calc\u001b[0;34m(atoms, geom_file, copy_files, get_forces)\u001b[0m\n\u001b[1;32m     98\u001b[0m     atoms\u001b[38;5;241m.\u001b[39mget_forces()\n\u001b[1;32m     99\u001b[0m \u001b[38;5;28;01melse\u001b[39;00m:\n\u001b[0;32m--> 100\u001b[0m     \u001b[43matoms\u001b[49m\u001b[38;5;241;43m.\u001b[39;49m\u001b[43mget_potential_energy\u001b[49m\u001b[43m(\u001b[49m\u001b[43m)\u001b[49m\n\u001b[1;32m    102\u001b[0m \u001b[38;5;66;03m# Most ASE calculators do not update the atoms object in-place with a call\u001b[39;00m\n\u001b[1;32m    103\u001b[0m \u001b[38;5;66;03m# to .get_potential_energy(), which is important if an internal optimizer is\u001b[39;00m\n\u001b[1;32m    104\u001b[0m \u001b[38;5;66;03m# used. This section is done to ensure that the atoms object is updated to\u001b[39;00m\n\u001b[0;32m   (...)\u001b[0m\n\u001b[1;32m    107\u001b[0m \u001b[38;5;66;03m# object, as this contains important information such as the parameters\u001b[39;00m\n\u001b[1;32m    108\u001b[0m \u001b[38;5;66;03m# and output properties (e.g. final magnetic moments).\u001b[39;00m\n\u001b[1;32m    109\u001b[0m \u001b[38;5;28;01mif\u001b[39;00m geom_file:\n",
      "File \u001b[0;32m~/miniconda3/envs/material_project/lib/python3.12/site-packages/ase/atoms.py:755\u001b[0m, in \u001b[0;36mAtoms.get_potential_energy\u001b[0;34m(self, force_consistent, apply_constraint)\u001b[0m\n\u001b[1;32m    752\u001b[0m     energy \u001b[38;5;241m=\u001b[39m \u001b[38;5;28mself\u001b[39m\u001b[38;5;241m.\u001b[39m_calc\u001b[38;5;241m.\u001b[39mget_potential_energy(\n\u001b[1;32m    753\u001b[0m         \u001b[38;5;28mself\u001b[39m, force_consistent\u001b[38;5;241m=\u001b[39mforce_consistent)\n\u001b[1;32m    754\u001b[0m \u001b[38;5;28;01melse\u001b[39;00m:\n\u001b[0;32m--> 755\u001b[0m     energy \u001b[38;5;241m=\u001b[39m \u001b[38;5;28;43mself\u001b[39;49m\u001b[38;5;241;43m.\u001b[39;49m\u001b[43m_calc\u001b[49m\u001b[38;5;241;43m.\u001b[39;49m\u001b[43mget_potential_energy\u001b[49m\u001b[43m(\u001b[49m\u001b[38;5;28;43mself\u001b[39;49m\u001b[43m)\u001b[49m\n\u001b[1;32m    756\u001b[0m \u001b[38;5;28;01mif\u001b[39;00m apply_constraint:\n\u001b[1;32m    757\u001b[0m     \u001b[38;5;28;01mfor\u001b[39;00m constraint \u001b[38;5;129;01min\u001b[39;00m \u001b[38;5;28mself\u001b[39m\u001b[38;5;241m.\u001b[39mconstraints:\n",
      "File \u001b[0;32m~/miniconda3/envs/material_project/lib/python3.12/site-packages/ase/calculators/abc.py:24\u001b[0m, in \u001b[0;36mGetPropertiesMixin.get_potential_energy\u001b[0;34m(self, atoms, force_consistent)\u001b[0m\n\u001b[1;32m     22\u001b[0m \u001b[38;5;28;01melse\u001b[39;00m:\n\u001b[1;32m     23\u001b[0m     name \u001b[38;5;241m=\u001b[39m \u001b[38;5;124m'\u001b[39m\u001b[38;5;124menergy\u001b[39m\u001b[38;5;124m'\u001b[39m\n\u001b[0;32m---> 24\u001b[0m \u001b[38;5;28;01mreturn\u001b[39;00m \u001b[38;5;28;43mself\u001b[39;49m\u001b[38;5;241;43m.\u001b[39;49m\u001b[43mget_property\u001b[49m\u001b[43m(\u001b[49m\u001b[43mname\u001b[49m\u001b[43m,\u001b[49m\u001b[43m \u001b[49m\u001b[43matoms\u001b[49m\u001b[43m)\u001b[49m\n",
      "File \u001b[0;32m~/miniconda3/envs/material_project/lib/python3.12/site-packages/ase/calculators/calculator.py:538\u001b[0m, in \u001b[0;36mBaseCalculator.get_property\u001b[0;34m(self, name, atoms, allow_calculation)\u001b[0m\n\u001b[1;32m    535\u001b[0m     \u001b[38;5;28;01mif\u001b[39;00m \u001b[38;5;28mself\u001b[39m\u001b[38;5;241m.\u001b[39muse_cache:\n\u001b[1;32m    536\u001b[0m         \u001b[38;5;28mself\u001b[39m\u001b[38;5;241m.\u001b[39matoms \u001b[38;5;241m=\u001b[39m atoms\u001b[38;5;241m.\u001b[39mcopy()\n\u001b[0;32m--> 538\u001b[0m     \u001b[38;5;28;43mself\u001b[39;49m\u001b[38;5;241;43m.\u001b[39;49m\u001b[43mcalculate\u001b[49m\u001b[43m(\u001b[49m\u001b[43matoms\u001b[49m\u001b[43m,\u001b[49m\u001b[43m \u001b[49m\u001b[43m[\u001b[49m\u001b[43mname\u001b[49m\u001b[43m]\u001b[49m\u001b[43m,\u001b[49m\u001b[43m \u001b[49m\u001b[43msystem_changes\u001b[49m\u001b[43m)\u001b[49m\n\u001b[1;32m    540\u001b[0m \u001b[38;5;28;01mif\u001b[39;00m name \u001b[38;5;129;01mnot\u001b[39;00m \u001b[38;5;129;01min\u001b[39;00m \u001b[38;5;28mself\u001b[39m\u001b[38;5;241m.\u001b[39mresults:\n\u001b[1;32m    541\u001b[0m     \u001b[38;5;66;03m# For some reason the calculator was not able to do what we want,\u001b[39;00m\n\u001b[1;32m    542\u001b[0m     \u001b[38;5;66;03m# and that is OK.\u001b[39;00m\n\u001b[1;32m    543\u001b[0m     \u001b[38;5;28;01mraise\u001b[39;00m PropertyNotImplementedError(\n\u001b[1;32m    544\u001b[0m         \u001b[38;5;124m'\u001b[39m\u001b[38;5;132;01m{}\u001b[39;00m\u001b[38;5;124m not present in this \u001b[39m\u001b[38;5;124m'\u001b[39m \u001b[38;5;124m'\u001b[39m\u001b[38;5;124mcalculation\u001b[39m\u001b[38;5;124m'\u001b[39m\u001b[38;5;241m.\u001b[39mformat(name)\n\u001b[1;32m    545\u001b[0m     )\n",
      "File \u001b[0;32m~/miniconda3/envs/material_project/lib/python3.12/site-packages/ase/calculators/calculator.py:1120\u001b[0m, in \u001b[0;36mFileIOCalculator.calculate\u001b[0;34m(self, atoms, properties, system_changes)\u001b[0m\n\u001b[1;32m   1118\u001b[0m Calculator\u001b[38;5;241m.\u001b[39mcalculate(\u001b[38;5;28mself\u001b[39m, atoms, properties, system_changes)\n\u001b[1;32m   1119\u001b[0m \u001b[38;5;28mself\u001b[39m\u001b[38;5;241m.\u001b[39mwrite_input(\u001b[38;5;28mself\u001b[39m\u001b[38;5;241m.\u001b[39matoms, properties, system_changes)\n\u001b[0;32m-> 1120\u001b[0m \u001b[38;5;28;43mself\u001b[39;49m\u001b[38;5;241;43m.\u001b[39;49m\u001b[43mexecute\u001b[49m\u001b[43m(\u001b[49m\u001b[43m)\u001b[49m\n\u001b[1;32m   1121\u001b[0m \u001b[38;5;28mself\u001b[39m\u001b[38;5;241m.\u001b[39mread_results()\n",
      "File \u001b[0;32m~/miniconda3/envs/material_project/lib/python3.12/site-packages/ase/calculators/calculator.py:1124\u001b[0m, in \u001b[0;36mFileIOCalculator.execute\u001b[0;34m(self)\u001b[0m\n\u001b[1;32m   1123\u001b[0m \u001b[38;5;28;01mdef\u001b[39;00m \u001b[38;5;21mexecute\u001b[39m(\u001b[38;5;28mself\u001b[39m):\n\u001b[0;32m-> 1124\u001b[0m     \u001b[38;5;28;43mself\u001b[39;49m\u001b[38;5;241;43m.\u001b[39;49m\u001b[43mprofile\u001b[49m\u001b[38;5;241;43m.\u001b[39;49m\u001b[43mexecute\u001b[49m\u001b[43m(\u001b[49m\u001b[38;5;28;43mself\u001b[39;49m\u001b[43m)\u001b[49m\n",
      "File \u001b[0;32m~/miniconda3/envs/material_project/lib/python3.12/site-packages/ase/calculators/calculator.py:962\u001b[0m, in \u001b[0;36mOldShellProfile.execute\u001b[0;34m(self, calc)\u001b[0m\n\u001b[1;32m    959\u001b[0m     msg \u001b[38;5;241m=\u001b[39m \u001b[38;5;124mf\u001b[39m\u001b[38;5;124m'\u001b[39m\u001b[38;5;124mFailed to execute \u001b[39m\u001b[38;5;124m\"\u001b[39m\u001b[38;5;132;01m{\u001b[39;00mcommand\u001b[38;5;132;01m}\u001b[39;00m\u001b[38;5;124m\"\u001b[39m\u001b[38;5;124m'\u001b[39m\n\u001b[1;32m    960\u001b[0m     \u001b[38;5;28;01mraise\u001b[39;00m \u001b[38;5;167;01mEnvironmentError\u001b[39;00m(msg) \u001b[38;5;28;01mfrom\u001b[39;00m \u001b[38;5;21;01merr\u001b[39;00m\n\u001b[0;32m--> 962\u001b[0m errorcode \u001b[38;5;241m=\u001b[39m \u001b[43mproc\u001b[49m\u001b[38;5;241;43m.\u001b[39;49m\u001b[43mwait\u001b[49m\u001b[43m(\u001b[49m\u001b[43m)\u001b[49m\n\u001b[1;32m    964\u001b[0m \u001b[38;5;28;01mif\u001b[39;00m errorcode:\n\u001b[1;32m    965\u001b[0m     path \u001b[38;5;241m=\u001b[39m os\u001b[38;5;241m.\u001b[39mpath\u001b[38;5;241m.\u001b[39mabspath(calc\u001b[38;5;241m.\u001b[39mdirectory)\n",
      "File \u001b[0;32m~/miniconda3/envs/material_project/lib/python3.12/subprocess.py:1264\u001b[0m, in \u001b[0;36mPopen.wait\u001b[0;34m(self, timeout)\u001b[0m\n\u001b[1;32m   1262\u001b[0m     endtime \u001b[38;5;241m=\u001b[39m _time() \u001b[38;5;241m+\u001b[39m timeout\n\u001b[1;32m   1263\u001b[0m \u001b[38;5;28;01mtry\u001b[39;00m:\n\u001b[0;32m-> 1264\u001b[0m     \u001b[38;5;28;01mreturn\u001b[39;00m \u001b[38;5;28;43mself\u001b[39;49m\u001b[38;5;241;43m.\u001b[39;49m\u001b[43m_wait\u001b[49m\u001b[43m(\u001b[49m\u001b[43mtimeout\u001b[49m\u001b[38;5;241;43m=\u001b[39;49m\u001b[43mtimeout\u001b[49m\u001b[43m)\u001b[49m\n\u001b[1;32m   1265\u001b[0m \u001b[38;5;28;01mexcept\u001b[39;00m \u001b[38;5;167;01mKeyboardInterrupt\u001b[39;00m:\n\u001b[1;32m   1266\u001b[0m     \u001b[38;5;66;03m# https://bugs.python.org/issue25942\u001b[39;00m\n\u001b[1;32m   1267\u001b[0m     \u001b[38;5;66;03m# The first keyboard interrupt waits briefly for the child to\u001b[39;00m\n\u001b[1;32m   1268\u001b[0m     \u001b[38;5;66;03m# exit under the common assumption that it also received the ^C\u001b[39;00m\n\u001b[1;32m   1269\u001b[0m     \u001b[38;5;66;03m# generated SIGINT and will exit rapidly.\u001b[39;00m\n\u001b[1;32m   1270\u001b[0m     \u001b[38;5;28;01mif\u001b[39;00m timeout \u001b[38;5;129;01mis\u001b[39;00m \u001b[38;5;129;01mnot\u001b[39;00m \u001b[38;5;28;01mNone\u001b[39;00m:\n",
      "File \u001b[0;32m~/miniconda3/envs/material_project/lib/python3.12/subprocess.py:2051\u001b[0m, in \u001b[0;36mPopen._wait\u001b[0;34m(self, timeout)\u001b[0m\n\u001b[1;32m   2049\u001b[0m \u001b[38;5;28;01mif\u001b[39;00m \u001b[38;5;28mself\u001b[39m\u001b[38;5;241m.\u001b[39mreturncode \u001b[38;5;129;01mis\u001b[39;00m \u001b[38;5;129;01mnot\u001b[39;00m \u001b[38;5;28;01mNone\u001b[39;00m:\n\u001b[1;32m   2050\u001b[0m     \u001b[38;5;28;01mbreak\u001b[39;00m  \u001b[38;5;66;03m# Another thread waited.\u001b[39;00m\n\u001b[0;32m-> 2051\u001b[0m (pid, sts) \u001b[38;5;241m=\u001b[39m \u001b[38;5;28;43mself\u001b[39;49m\u001b[38;5;241;43m.\u001b[39;49m\u001b[43m_try_wait\u001b[49m\u001b[43m(\u001b[49m\u001b[38;5;241;43m0\u001b[39;49m\u001b[43m)\u001b[49m\n\u001b[1;32m   2052\u001b[0m \u001b[38;5;66;03m# Check the pid and loop as waitpid has been known to\u001b[39;00m\n\u001b[1;32m   2053\u001b[0m \u001b[38;5;66;03m# return 0 even without WNOHANG in odd situations.\u001b[39;00m\n\u001b[1;32m   2054\u001b[0m \u001b[38;5;66;03m# http://bugs.python.org/issue14396.\u001b[39;00m\n\u001b[1;32m   2055\u001b[0m \u001b[38;5;28;01mif\u001b[39;00m pid \u001b[38;5;241m==\u001b[39m \u001b[38;5;28mself\u001b[39m\u001b[38;5;241m.\u001b[39mpid:\n",
      "File \u001b[0;32m~/miniconda3/envs/material_project/lib/python3.12/subprocess.py:2009\u001b[0m, in \u001b[0;36mPopen._try_wait\u001b[0;34m(self, wait_flags)\u001b[0m\n\u001b[1;32m   2007\u001b[0m \u001b[38;5;250m\u001b[39m\u001b[38;5;124;03m\"\"\"All callers to this function MUST hold self._waitpid_lock.\"\"\"\u001b[39;00m\n\u001b[1;32m   2008\u001b[0m \u001b[38;5;28;01mtry\u001b[39;00m:\n\u001b[0;32m-> 2009\u001b[0m     (pid, sts) \u001b[38;5;241m=\u001b[39m \u001b[43mos\u001b[49m\u001b[38;5;241;43m.\u001b[39;49m\u001b[43mwaitpid\u001b[49m\u001b[43m(\u001b[49m\u001b[38;5;28;43mself\u001b[39;49m\u001b[38;5;241;43m.\u001b[39;49m\u001b[43mpid\u001b[49m\u001b[43m,\u001b[49m\u001b[43m \u001b[49m\u001b[43mwait_flags\u001b[49m\u001b[43m)\u001b[49m\n\u001b[1;32m   2010\u001b[0m \u001b[38;5;28;01mexcept\u001b[39;00m \u001b[38;5;167;01mChildProcessError\u001b[39;00m:\n\u001b[1;32m   2011\u001b[0m     \u001b[38;5;66;03m# This happens if SIGCLD is set to be ignored or waiting\u001b[39;00m\n\u001b[1;32m   2012\u001b[0m     \u001b[38;5;66;03m# for child processes has otherwise been disabled for our\u001b[39;00m\n\u001b[1;32m   2013\u001b[0m     \u001b[38;5;66;03m# process.  This child is dead, we can't get the status.\u001b[39;00m\n\u001b[1;32m   2014\u001b[0m     pid \u001b[38;5;241m=\u001b[39m \u001b[38;5;28mself\u001b[39m\u001b[38;5;241m.\u001b[39mpid\n",
      "\u001b[0;31mKeyboardInterrupt\u001b[0m: "
     ]
    }
   ],
   "source": [
    "from quacc.recipes.dftb.core import relax_job\n",
    "from jobflow import job, Flow, run_locally\n",
    "from ase.io import read\n",
    "\n",
    "\n",
    "def relaxation_dftb_plus(atoms):\n",
    "\n",
    "    return relax_job(\n",
    "        atoms=atoms,\n",
    "        method=\"GFN2-xTB\",\n",
    "        Driver_=\"GeometryOptimization\",\n",
    "        Driver_LatticeOpt=\"Yes\",\n",
    "        Driver_MaxForceComponent=\"1e-6\",\n",
    "        Driver_MaxSteps=100,\n",
    "        Driver_OutputPrefix=\"aaa_end\", # output file prefix\n",
    "        Driver_AppendGeometries=\"Yes\",\n",
    "        Hamiltonian_SCC='Yes',\n",
    "        Hamiltonian_SCCTolerance='1e-2',\n",
    "        Hamiltonian_MaxSccIterations=3000,\n",
    "    )\n",
    "\n",
    "atoms = read('NaCl_noise.cif')\n",
    "relaxation = relaxation_dftb_plus(atoms)\n",
    "result = run_locally(relaxation)\n",
    "print(result[list(result)[0]][1].output)\n",
    "# flow = ([relaxation])\n"
   ]
  },
  {
   "cell_type": "code",
   "execution_count": 43,
   "metadata": {},
   "outputs": [
    {
     "name": "stdout",
     "output_type": "stream",
     "text": [
      "2024-05-07 10:22:39,492 INFO Started executing jobs locally\n"
     ]
    },
    {
     "name": "stderr",
     "output_type": "stream",
     "text": [
      "INFO:jobflow.managers.local:Started executing jobs locally\n"
     ]
    },
    {
     "name": "stdout",
     "output_type": "stream",
     "text": [
      "2024-05-07 10:22:39,494 INFO Starting job - relaxation_dftb_plus (923197a1-bfd7-4fa5-a629-a9ecb8535072)\n"
     ]
    },
    {
     "name": "stderr",
     "output_type": "stream",
     "text": [
      "/Users/ruben_mac/miniconda3/envs/test/lib/python3.9/site-packages/jobflow/core/flow.py:423: UserWarning: Some jobs are not connected, their ordering may be random\n",
      "  for node in itergraph(graph):\n",
      "INFO:jobflow.core.job:Starting job - relaxation_dftb_plus (923197a1-bfd7-4fa5-a629-a9ecb8535072)\n",
      "INFO:quacc.runners.prep:Calculation will run at /Users/ruben_mac/Desktop/Project/tmp-quacc-2024-05-07-17-22-39-498110-27066\n"
     ]
    },
    {
     "name": "stdout",
     "output_type": "stream",
     "text": [
      "2024-05-07 10:22:39,540 INFO relaxation_dftb_plus failed with exception:\n",
      "Traceback (most recent call last):\n",
      "  File \"/Users/ruben_mac/miniconda3/envs/test/lib/python3.9/site-packages/jobflow/managers/local.py\", line 114, in _run_job\n",
      "    response = job.run(store=store)\n",
      "  File \"/Users/ruben_mac/miniconda3/envs/test/lib/python3.9/site-packages/jobflow/core/job.py\", line 583, in run\n",
      "    response = function(*self.function_args, **self.function_kwargs)\n",
      "  File \"/var/folders/kf/59l21j410zndl1bxmzhg6p_r0000gn/T/ipykernel_11365/4222207419.py\", line 14, in relaxation_dftb_plus\n",
      "    result = dftb_relax_job(\n",
      "  File \"/Users/ruben_mac/miniconda3/envs/test/lib/python3.9/site-packages/quacc/recipes/dftb/core.py\", line 118, in relax_job\n",
      "    return run_and_summarize(\n",
      "  File \"/Users/ruben_mac/miniconda3/envs/test/lib/python3.9/site-packages/quacc/recipes/dftb/_base.py\", line 59, in run_and_summarize\n",
      "    final_atoms = run_calc(atoms, geom_file=GEOM_FILE, copy_files=copy_files)\n",
      "  File \"/Users/ruben_mac/miniconda3/envs/test/lib/python3.9/site-packages/quacc/runners/ase.py\", line 99, in run_calc\n",
      "    atoms.get_potential_energy()\n",
      "  File \"/Users/ruben_mac/miniconda3/envs/test/lib/python3.9/site-packages/ase/atoms.py\", line 755, in get_potential_energy\n",
      "    energy = self._calc.get_potential_energy(self)\n",
      "  File \"/Users/ruben_mac/miniconda3/envs/test/lib/python3.9/site-packages/ase/calculators/abc.py\", line 24, in get_potential_energy\n",
      "    return self.get_property(name, atoms)\n",
      "  File \"/Users/ruben_mac/miniconda3/envs/test/lib/python3.9/site-packages/ase/calculators/calculator.py\", line 537, in get_property\n",
      "    self.calculate(atoms, [name], system_changes)\n",
      "  File \"/Users/ruben_mac/miniconda3/envs/test/lib/python3.9/site-packages/ase/calculators/calculator.py\", line 1119, in calculate\n",
      "    self.execute()\n",
      "  File \"/Users/ruben_mac/miniconda3/envs/test/lib/python3.9/site-packages/ase/calculators/calculator.py\", line 1123, in execute\n",
      "    self.profile.execute(self)\n",
      "  File \"/Users/ruben_mac/miniconda3/envs/test/lib/python3.9/site-packages/ase/calculators/calculator.py\", line 970, in execute\n",
      "    raise CalculationFailed(msg)\n",
      "ase.calculators.calculator.CalculationFailed: Calculator \"dftb\" failed with command \"dftb+ > dftb.out\" failed in /Users/ruben_mac/Desktop/Project/tmp-quacc-2024-05-07-17-22-39-498110-27066 with error code 134\n",
      "\n"
     ]
    },
    {
     "name": "stderr",
     "output_type": "stream",
     "text": [
      "dyld[14253]: Library not loaded: @rpath/liblapack.3.dylib\n",
      "  Referenced from: <3173CDD0-881F-37E6-AF68-C6E910E06BDD> /Users/ruben_mac/miniconda3/envs/test/lib/libdftbplus.dylib\n",
      "  Reason: tried: '/Users/ruben_mac/miniconda3/envs/test/lib/liblapack.3.dylib' (no such file), '/Users/ruben_mac/miniconda3/envs/test/lib/liblapack.3.dylib' (no such file), '/Users/ruben_mac/miniconda3/envs/test/bin/liblapack.3.dylib' (no such file), '/Users/ruben_mac/miniconda3/envs/test/bin/../lib/liblapack.3.dylib' (no such file), '/Users/ruben_mac/miniconda3/envs/test/bin/liblapack.3.dylib' (no such file), '/Users/ruben_mac/miniconda3/envs/test/bin/../lib/liblapack.3.dylib' (no such file), '/usr/local/lib/liblapack.3.dylib' (no such file), '/usr/lib/liblapack.3.dylib' (no such file, not in dyld cache)Library not loaded: @rpath/liblapack.3.dylib\n",
      "  Referenced from: <BB4637EA-65D7-3015-B4C4-EB7DB466A3E0> /Users/ruben_mac/miniconda3/envs/test/lib/libtblite.0.dylib\n",
      "  Reason: tried: '/Users/ruben_mac/miniconda3/envs/test/lib/liblapack.3.dylib' (no such file), '/Users/ruben_mac/miniconda3/envs/test/lib/liblapack.3.dylib' (no such file), '/Users/ruben_mac/miniconda3/envs/test/bin/liblapack.3.dylib' (no such file), '/Users/ruben_mac/miniconda3/envs/test/bin/../lib/liblapack.3.dylib' (no such file), '/Users/ruben_mac/miniconda3/envs/test/bin/liblapack.3.dylib' (no such file), '/Users/ruben_mac/miniconda3/envs/test/bin/../lib/liblapack.3.dylib' (no such file), '/usr/local/lib/liblapack.3.dylib' (no such file), '/usr/lib/liblapack.3.dylib' (no such file, not in dyld cache)\n",
      "/bin/sh: line 1: 14253 Abort trap: 6           dftb+ > dftb.out\n",
      "INFO:jobflow.managers.local:relaxation_dftb_plus failed with exception:\n",
      "Traceback (most recent call last):\n",
      "  File \"/Users/ruben_mac/miniconda3/envs/test/lib/python3.9/site-packages/jobflow/managers/local.py\", line 114, in _run_job\n",
      "    response = job.run(store=store)\n",
      "  File \"/Users/ruben_mac/miniconda3/envs/test/lib/python3.9/site-packages/jobflow/core/job.py\", line 583, in run\n",
      "    response = function(*self.function_args, **self.function_kwargs)\n",
      "  File \"/var/folders/kf/59l21j410zndl1bxmzhg6p_r0000gn/T/ipykernel_11365/4222207419.py\", line 14, in relaxation_dftb_plus\n",
      "    result = dftb_relax_job(\n",
      "  File \"/Users/ruben_mac/miniconda3/envs/test/lib/python3.9/site-packages/quacc/recipes/dftb/core.py\", line 118, in relax_job\n",
      "    return run_and_summarize(\n",
      "  File \"/Users/ruben_mac/miniconda3/envs/test/lib/python3.9/site-packages/quacc/recipes/dftb/_base.py\", line 59, in run_and_summarize\n",
      "    final_atoms = run_calc(atoms, geom_file=GEOM_FILE, copy_files=copy_files)\n",
      "  File \"/Users/ruben_mac/miniconda3/envs/test/lib/python3.9/site-packages/quacc/runners/ase.py\", line 99, in run_calc\n",
      "    atoms.get_potential_energy()\n",
      "  File \"/Users/ruben_mac/miniconda3/envs/test/lib/python3.9/site-packages/ase/atoms.py\", line 755, in get_potential_energy\n",
      "    energy = self._calc.get_potential_energy(self)\n",
      "  File \"/Users/ruben_mac/miniconda3/envs/test/lib/python3.9/site-packages/ase/calculators/abc.py\", line 24, in get_potential_energy\n",
      "    return self.get_property(name, atoms)\n",
      "  File \"/Users/ruben_mac/miniconda3/envs/test/lib/python3.9/site-packages/ase/calculators/calculator.py\", line 537, in get_property\n",
      "    self.calculate(atoms, [name], system_changes)\n",
      "  File \"/Users/ruben_mac/miniconda3/envs/test/lib/python3.9/site-packages/ase/calculators/calculator.py\", line 1119, in calculate\n",
      "    self.execute()\n",
      "  File \"/Users/ruben_mac/miniconda3/envs/test/lib/python3.9/site-packages/ase/calculators/calculator.py\", line 1123, in execute\n",
      "    self.profile.execute(self)\n",
      "  File \"/Users/ruben_mac/miniconda3/envs/test/lib/python3.9/site-packages/ase/calculators/calculator.py\", line 970, in execute\n",
      "    raise CalculationFailed(msg)\n",
      "ase.calculators.calculator.CalculationFailed: Calculator \"dftb\" failed with command \"dftb+ > dftb.out\" failed in /Users/ruben_mac/Desktop/Project/tmp-quacc-2024-05-07-17-22-39-498110-27066 with error code 134\n",
      "\n"
     ]
    },
    {
     "name": "stdout",
     "output_type": "stream",
     "text": [
      "2024-05-07 10:22:39,542 INFO Starting job - conversion_job (61c6127a-6377-4f26-ac72-b61bc23340b7)\n"
     ]
    },
    {
     "name": "stderr",
     "output_type": "stream",
     "text": [
      "INFO:jobflow.core.job:Starting job - conversion_job (61c6127a-6377-4f26-ac72-b61bc23340b7)\n"
     ]
    },
    {
     "name": "stdout",
     "output_type": "stream",
     "text": [
      "2024-05-07 10:22:39,544 INFO conversion_job failed with exception:\n",
      "Traceback (most recent call last):\n",
      "  File \"/Users/ruben_mac/miniconda3/envs/test/lib/python3.9/site-packages/jobflow/managers/local.py\", line 114, in _run_job\n",
      "    response = job.run(store=store)\n",
      "  File \"/Users/ruben_mac/miniconda3/envs/test/lib/python3.9/site-packages/jobflow/core/job.py\", line 583, in run\n",
      "    response = function(*self.function_args, **self.function_kwargs)\n",
      "  File \"/var/folders/kf/59l21j410zndl1bxmzhg6p_r0000gn/T/ipykernel_11365/4222207419.py\", line 36, in conversion_job\n",
      "    with gzip.open(gen_gz_file, 'rb') as f_in:\n",
      "  File \"/Users/ruben_mac/miniconda3/envs/test/lib/python3.9/gzip.py\", line 58, in open\n",
      "    binary_file = GzipFile(filename, gz_mode, compresslevel)\n",
      "  File \"/Users/ruben_mac/miniconda3/envs/test/lib/python3.9/gzip.py\", line 173, in __init__\n",
      "    fileobj = self.myfileobj = builtins.open(filename, mode or 'rb')\n",
      "FileNotFoundError: [Errno 2] No such file or directory: '/Users/ruben_mac/Desktop/project/aaa_end.gen.gz'\n",
      "\n"
     ]
    },
    {
     "name": "stderr",
     "output_type": "stream",
     "text": [
      "INFO:jobflow.managers.local:conversion_job failed with exception:\n",
      "Traceback (most recent call last):\n",
      "  File \"/Users/ruben_mac/miniconda3/envs/test/lib/python3.9/site-packages/jobflow/managers/local.py\", line 114, in _run_job\n",
      "    response = job.run(store=store)\n",
      "  File \"/Users/ruben_mac/miniconda3/envs/test/lib/python3.9/site-packages/jobflow/core/job.py\", line 583, in run\n",
      "    response = function(*self.function_args, **self.function_kwargs)\n",
      "  File \"/var/folders/kf/59l21j410zndl1bxmzhg6p_r0000gn/T/ipykernel_11365/4222207419.py\", line 36, in conversion_job\n",
      "    with gzip.open(gen_gz_file, 'rb') as f_in:\n",
      "  File \"/Users/ruben_mac/miniconda3/envs/test/lib/python3.9/gzip.py\", line 58, in open\n",
      "    binary_file = GzipFile(filename, gz_mode, compresslevel)\n",
      "  File \"/Users/ruben_mac/miniconda3/envs/test/lib/python3.9/gzip.py\", line 173, in __init__\n",
      "    fileobj = self.myfileobj = builtins.open(filename, mode or 'rb')\n",
      "FileNotFoundError: [Errno 2] No such file or directory: '/Users/ruben_mac/Desktop/project/aaa_end.gen.gz'\n",
      "\n"
     ]
    },
    {
     "name": "stdout",
     "output_type": "stream",
     "text": [
      "2024-05-07 10:22:39,544 INFO Starting job - relaxation_gfnff (c4b1c7f1-8af8-4d41-8459-e5b67afddb4c)\n"
     ]
    },
    {
     "name": "stderr",
     "output_type": "stream",
     "text": [
      "INFO:jobflow.core.job:Starting job - relaxation_gfnff (c4b1c7f1-8af8-4d41-8459-e5b67afddb4c)\n",
      "INFO:quacc.runners.prep:Calculation will run at /Users/ruben_mac/Desktop/Project/tmp-quacc-2024-05-07-17-22-39-549805-96801\n"
     ]
    },
    {
     "name": "stdout",
     "output_type": "stream",
     "text": [
      "2024-05-07 10:22:39,591 INFO relaxation_gfnff failed with exception:\n",
      "Traceback (most recent call last):\n",
      "  File \"/Users/ruben_mac/miniconda3/envs/test/lib/python3.9/site-packages/jobflow/managers/local.py\", line 114, in _run_job\n",
      "    response = job.run(store=store)\n",
      "  File \"/Users/ruben_mac/miniconda3/envs/test/lib/python3.9/site-packages/jobflow/core/job.py\", line 583, in run\n",
      "    response = function(*self.function_args, **self.function_kwargs)\n",
      "  File \"/var/folders/kf/59l21j410zndl1bxmzhg6p_r0000gn/T/ipykernel_11365/4222207419.py\", line 48, in relaxation_gfnff\n",
      "    result = gulp_relax_job(\n",
      "  File \"/Users/ruben_mac/miniconda3/envs/test/lib/python3.9/site-packages/quacc/recipes/gulp/core.py\", line 115, in relax_job\n",
      "    return run_and_summarize(\n",
      "  File \"/Users/ruben_mac/miniconda3/envs/test/lib/python3.9/site-packages/quacc/recipes/gulp/_base.py\", line 104, in run_and_summarize\n",
      "    final_atoms = run_calc(\n",
      "  File \"/Users/ruben_mac/miniconda3/envs/test/lib/python3.9/site-packages/quacc/runners/ase.py\", line 99, in run_calc\n",
      "    atoms.get_potential_energy()\n",
      "  File \"/Users/ruben_mac/miniconda3/envs/test/lib/python3.9/site-packages/ase/atoms.py\", line 755, in get_potential_energy\n",
      "    energy = self._calc.get_potential_energy(self)\n",
      "  File \"/Users/ruben_mac/miniconda3/envs/test/lib/python3.9/site-packages/ase/calculators/abc.py\", line 24, in get_potential_energy\n",
      "    return self.get_property(name, atoms)\n",
      "  File \"/Users/ruben_mac/miniconda3/envs/test/lib/python3.9/site-packages/ase/calculators/calculator.py\", line 537, in get_property\n",
      "    self.calculate(atoms, [name], system_changes)\n",
      "  File \"/Users/ruben_mac/miniconda3/envs/test/lib/python3.9/site-packages/ase/calculators/calculator.py\", line 1119, in calculate\n",
      "    self.execute()\n",
      "  File \"/Users/ruben_mac/miniconda3/envs/test/lib/python3.9/site-packages/ase/calculators/calculator.py\", line 1123, in execute\n",
      "    self.profile.execute(self)\n",
      "  File \"/Users/ruben_mac/miniconda3/envs/test/lib/python3.9/site-packages/ase/calculators/calculator.py\", line 970, in execute\n",
      "    raise CalculationFailed(msg)\n",
      "ase.calculators.calculator.CalculationFailed: Calculator \"gulp\" failed with command \"gulp < gulp.gin > gulp.got\" failed in /Users/ruben_mac/Desktop/Project/tmp-quacc-2024-05-07-17-22-39-549805-96801 with error code 127\n",
      "\n"
     ]
    },
    {
     "name": "stderr",
     "output_type": "stream",
     "text": [
      "/bin/sh: gulp: command not found\n",
      "INFO:jobflow.managers.local:relaxation_gfnff failed with exception:\n",
      "Traceback (most recent call last):\n",
      "  File \"/Users/ruben_mac/miniconda3/envs/test/lib/python3.9/site-packages/jobflow/managers/local.py\", line 114, in _run_job\n",
      "    response = job.run(store=store)\n",
      "  File \"/Users/ruben_mac/miniconda3/envs/test/lib/python3.9/site-packages/jobflow/core/job.py\", line 583, in run\n",
      "    response = function(*self.function_args, **self.function_kwargs)\n",
      "  File \"/var/folders/kf/59l21j410zndl1bxmzhg6p_r0000gn/T/ipykernel_11365/4222207419.py\", line 48, in relaxation_gfnff\n",
      "    result = gulp_relax_job(\n",
      "  File \"/Users/ruben_mac/miniconda3/envs/test/lib/python3.9/site-packages/quacc/recipes/gulp/core.py\", line 115, in relax_job\n",
      "    return run_and_summarize(\n",
      "  File \"/Users/ruben_mac/miniconda3/envs/test/lib/python3.9/site-packages/quacc/recipes/gulp/_base.py\", line 104, in run_and_summarize\n",
      "    final_atoms = run_calc(\n",
      "  File \"/Users/ruben_mac/miniconda3/envs/test/lib/python3.9/site-packages/quacc/runners/ase.py\", line 99, in run_calc\n",
      "    atoms.get_potential_energy()\n",
      "  File \"/Users/ruben_mac/miniconda3/envs/test/lib/python3.9/site-packages/ase/atoms.py\", line 755, in get_potential_energy\n",
      "    energy = self._calc.get_potential_energy(self)\n",
      "  File \"/Users/ruben_mac/miniconda3/envs/test/lib/python3.9/site-packages/ase/calculators/abc.py\", line 24, in get_potential_energy\n",
      "    return self.get_property(name, atoms)\n",
      "  File \"/Users/ruben_mac/miniconda3/envs/test/lib/python3.9/site-packages/ase/calculators/calculator.py\", line 537, in get_property\n",
      "    self.calculate(atoms, [name], system_changes)\n",
      "  File \"/Users/ruben_mac/miniconda3/envs/test/lib/python3.9/site-packages/ase/calculators/calculator.py\", line 1119, in calculate\n",
      "    self.execute()\n",
      "  File \"/Users/ruben_mac/miniconda3/envs/test/lib/python3.9/site-packages/ase/calculators/calculator.py\", line 1123, in execute\n",
      "    self.profile.execute(self)\n",
      "  File \"/Users/ruben_mac/miniconda3/envs/test/lib/python3.9/site-packages/ase/calculators/calculator.py\", line 970, in execute\n",
      "    raise CalculationFailed(msg)\n",
      "ase.calculators.calculator.CalculationFailed: Calculator \"gulp\" failed with command \"gulp < gulp.gin > gulp.got\" failed in /Users/ruben_mac/Desktop/Project/tmp-quacc-2024-05-07-17-22-39-549805-96801 with error code 127\n",
      "\n"
     ]
    },
    {
     "name": "stdout",
     "output_type": "stream",
     "text": [
      "2024-05-07 10:22:39,592 INFO Finished executing jobs locally\n"
     ]
    },
    {
     "name": "stderr",
     "output_type": "stream",
     "text": [
      "INFO:jobflow.managers.local:Finished executing jobs locally\n"
     ]
    }
   ],
   "source": [
    "from ase.io import read, write\n",
    "from quacc.recipes.dftb.core import relax_job as dftb_relax_job\n",
    "from quacc.recipes.gulp.core import relax_job as gulp_relax_job\n",
    "from jobflow import job, Flow, run_locally\n",
    "import gzip\n",
    "import shutil\n",
    "\n",
    "@job\n",
    "def relaxation_dftb_plus(input_file):\n",
    "    atoms = read(input_file)\n",
    "    if 'spacegroup' in atoms.info:\n",
    "        del atoms.info['spacegroup'] \n",
    "\n",
    "    result = dftb_relax_job(\n",
    "        atoms=atoms,\n",
    "        method=\"GFN2-xTB\",\n",
    "        Driver_=\"GeometryOptimization\",\n",
    "        Driver_LatticeOpt=\"Yes\",\n",
    "        Driver_MaxForceComponent=\"1e-6\",\n",
    "        Driver_MaxSteps=100,\n",
    "        Driver_OutputPrefix=\"aaa_end\",\n",
    "        Driver_AppendGeometries=\"Yes\",\n",
    "        Hamiltonian_SCC='Yes',\n",
    "        Hamiltonian_SCCTolerance='1e-4',\n",
    "        Hamiltonian_MaxSccIterations=3000,\n",
    "    )\n",
    "    return result\n",
    "\n",
    "@job\n",
    "def conversion_job(gen_gz_file_directory, gen_gz_file_name, output_file_name):\n",
    "    gen_gz_file = f'{gen_gz_file_directory}/{gen_gz_file_name}.gen.gz'\n",
    "    output_cif_file = f'{gen_gz_file_directory}/{output_file_name}.cif'\n",
    "    \n",
    "    gen_file = gen_gz_file[:-3]  # Removes the .gz extension\n",
    "    \n",
    "    with gzip.open(gen_gz_file, 'rb') as f_in:\n",
    "        with open(gen_file, 'wb') as f_out:\n",
    "            shutil.copyfileobj(f_in, f_out)\n",
    "    \n",
    "    atoms = read(gen_file)\n",
    "    write(output_cif_file, atoms)\n",
    "    \n",
    "    return f\"Converted {gen_gz_file} to {output_cif_file}\"\n",
    "\n",
    "@job\n",
    "def relaxation_gfnff(input_file):\n",
    "    atoms = read(input_file)\n",
    "    result = gulp_relax_job(\n",
    "        atoms=atoms,\n",
    "        use_gfnff=True,\n",
    "        relax_cell=True,\n",
    "        keywords={\n",
    "\n",
    "        }\n",
    "    )\n",
    "    return result[\"atoms\"]\n",
    "\n",
    "input_file = '/Users/ruben_mac/Desktop/project/NaCl_noise.cif'\n",
    "gen_gz_file_directory = '/Users/ruben_mac/Desktop/project'\n",
    "gen_gz_file_name = 'aaa_end'\n",
    "output_file_name = 'aaa_end'\n",
    "\n",
    "flow = Flow([\n",
    "    relaxation_dftb_plus(input_file),\n",
    "    conversion_job(gen_gz_file_directory, gen_gz_file_name, output_file_name),\n",
    "    relaxation_gfnff(input_file)\n",
    "])\n",
    "\n",
    "results = run_locally(flow)\n"
   ]
  },
  {
   "cell_type": "code",
   "execution_count": null,
   "metadata": {},
   "outputs": [],
   "source": []
  }
 ],
 "metadata": {
  "kernelspec": {
   "display_name": "quacc",
   "language": "python",
   "name": "python3"
  },
  "language_info": {
   "codemirror_mode": {
    "name": "ipython",
    "version": 3
   },
   "file_extension": ".py",
   "mimetype": "text/x-python",
   "name": "python",
   "nbconvert_exporter": "python",
   "pygments_lexer": "ipython3",
   "version": "3.11.0"
  },
  "orig_nbformat": 4
 },
 "nbformat": 4,
 "nbformat_minor": 2
}
