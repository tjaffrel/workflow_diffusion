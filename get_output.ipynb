{
 "cells": [
  {
   "cell_type": "code",
   "execution_count": 1,
   "metadata": {},
   "outputs": [],
   "source": [
    "from jobflow import JobStore\n",
    "from monty.serialization import loadfn, dumpfn\n",
    "import os\n",
    "\n",
    "output_dir = \"workflow_output\"\n",
    "if not os.path.isdir(output_dir):\n",
    "    os.makedirs(output_dir,exist_ok=True)\n",
    "\n",
    "def get_store_from_config(config_file_path:str):\n",
    "    config = loadfn(config_file_path)\n",
    "    return JobStore.from_dict_spec(config.get(\"JOB_STORE\",config))"
   ]
  },
  {
   "cell_type": "code",
   "execution_count": 2,
   "metadata": {},
   "outputs": [],
   "source": [
    "store = get_store_from_config(\"/Users/aaronkaplan/atomate2/config/jobflow.yaml\")\n",
    "store.connect()"
   ]
  },
  {
   "cell_type": "code",
   "execution_count": 3,
   "metadata": {},
   "outputs": [],
   "source": [
    "_docs = [doc for doc in store.query({\"metadata.job_info\": \"mof discovery\", \"metadata.fw_id\": {\"$gt\": 36096}})]"
   ]
  },
  {
   "cell_type": "code",
   "execution_count": 10,
   "metadata": {},
   "outputs": [
    {
     "name": "stdout",
     "output_type": "stream",
     "text": [
      "100 workflows have complete output from 100 total.\n",
      "87 are MOFs.\n",
      "\n"
     ]
    }
   ],
   "source": [
    "docs = {}\n",
    "for doc in _docs:\n",
    "    mof_name = doc[\"metadata\"][\"MOF\"]    \n",
    "    if mof_name not in docs:\n",
    "        docs[mof_name] = {\n",
    "            \"metadata\": doc[\"metadata\"].copy()\n",
    "        }\n",
    "    docs[mof_name][doc[\"name\"]] = doc[\"output\"]\n",
    "\n",
    "for mof_name, mof_run in docs.items():\n",
    "\n",
    "    if not (is_mof_init := mof_run.get(\"zeo++ input structure\",{}).get(\"is_mof\",False)):\n",
    "        docs[mof_name].update({\n",
    "            \"has_complete_output\": True,\n",
    "            \"is_mof\": False\n",
    "        })\n",
    "        continue\n",
    "\n",
    "    if not (mace_relax := mof_run.get(\"MACE relax\")):\n",
    "        docs[mof_name][\"has_complete_output\"] = False\n",
    "        continue\n",
    "    \n",
    "    if not mace_relax[\"is_force_converged\"]:\n",
    "        docs[mof_name].update({\n",
    "            \"has_complete_output\" : True,\n",
    "            \"is_mof\": is_mof_init\n",
    "        })\n",
    "        continue\n",
    "\n",
    "    if not (zeopp_final := mof_run.get(\"zeo++ mace-relaxed structure\",{})):\n",
    "        docs[mof_name].update({\n",
    "            \"has_complete_output\" : False,\n",
    "            \"is_mof\": is_mof_init\n",
    "        })\n",
    "        continue\n",
    "\n",
    "    docs[mof_name].update({\n",
    "        \"has_complete_output\" : True,\n",
    "        \"is_mof\": zeopp_final.get(\"is_mof\",False)\n",
    "    })\n",
    "\n",
    "n_tot = len(docs)\n",
    "n_complete = len([mof_name for mof_name in docs if docs[mof_name][\"has_complete_output\"]])\n",
    "n_is_mof = len([mof_name for mof_name in docs if docs[mof_name][\"is_mof\"]])\n",
    "\n",
    "no_longer_mof = []\n",
    "for mof_name, doc in docs.items():\n",
    "    if not all(k in doc for k in [\"zeo++ input structure\",\"zeo++ mace-relaxed structure\"]):\n",
    "        continue\n",
    "    if doc[\"zeo++ input structure\"][\"is_mof\"] and not doc[\"zeo++ mace-relaxed structure\"]:\n",
    "        no_longer_mof.append(mof_name)\n",
    "\n",
    "print(\n",
    "    f\"{n_complete} workflows have complete output from {n_tot} total.\\n\"\n",
    "    f\"{n_is_mof} are MOFs.\\n\"\n",
    ")\n",
    "if (n_no_longer_mof := len(no_longer_mof)) > 0:\n",
    "    print(f\"{len(no_longer_mof)} were MOFs prior to relaxation with MACE and now are no longer MOFs.\")\n",
    "\n",
    "dumpfn(docs,os.path.join(output_dir,\"mof_discovery_docs.json.gz\"))"
   ]
  }
 ],
 "metadata": {
  "kernelspec": {
   "display_name": "mof",
   "language": "python",
   "name": "python3"
  },
  "language_info": {
   "codemirror_mode": {
    "name": "ipython",
    "version": 3
   },
   "file_extension": ".py",
   "mimetype": "text/x-python",
   "name": "python",
   "nbconvert_exporter": "python",
   "pygments_lexer": "ipython3",
   "version": "3.11.0"
  }
 },
 "nbformat": 4,
 "nbformat_minor": 2
}
