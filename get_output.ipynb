{
 "cells": [
  {
   "cell_type": "code",
   "execution_count": null,
   "metadata": {},
   "outputs": [],
   "source": [
    "from jobflow import JobStore\n",
    "from monty.serialization import loadfn, dumpfn\n",
    "import os\n",
    "\n",
    "output_dir = \"workflow_output\"\n",
    "if not os.path.isdir(output_dir):\n",
    "    os.makedirs(output_dir, exist_ok=True)\n",
    "\n",
    "\n",
    "def get_store_from_config(config_file_path: str):\n",
    "    config = loadfn(config_file_path)\n",
    "    return JobStore.from_dict_spec(config.get(\"JOB_STORE\", config))"
   ]
  },
  {
   "cell_type": "code",
   "execution_count": null,
   "metadata": {},
   "outputs": [],
   "source": [
    "store = get_store_from_config(\"/Users/aaronkaplan/atomate2/config/jobflow.yaml\")\n",
    "store.connect()"
   ]
  },
  {
   "cell_type": "code",
   "execution_count": null,
   "metadata": {},
   "outputs": [],
   "source": [
    "_docs = [\n",
    "    doc\n",
    "    for doc in store.query(\n",
    "        {\"metadata.job_info\": \"mof discovery\", \"metadata.fw_id\": {\"$gt\": 36096}}\n",
    "    )\n",
    "]"
   ]
  },
  {
   "cell_type": "code",
   "execution_count": null,
   "metadata": {},
   "outputs": [],
   "source": [
    "docs = {}\n",
    "for doc in _docs:\n",
    "    mof_name = doc[\"metadata\"][\"MOF\"]\n",
    "    if mof_name not in docs:\n",
    "        docs[mof_name] = {\"metadata\": doc[\"metadata\"].copy()}\n",
    "    docs[mof_name][doc[\"name\"]] = doc[\"output\"]\n",
    "\n",
    "for mof_name, mof_run in docs.items():\n",
    "    if not (\n",
    "        is_mof_init := mof_run.get(\"zeo++ input structure\", {}).get(\"is_mof\", False)\n",
    "    ):\n",
    "        docs[mof_name].update({\"has_complete_output\": True, \"is_mof\": False})\n",
    "        continue\n",
    "\n",
    "    if not (mace_relax := mof_run.get(\"MACE relax\")):\n",
    "        docs[mof_name][\"has_complete_output\"] = False\n",
    "        continue\n",
    "\n",
    "    if not mace_relax[\"is_force_converged\"]:\n",
    "        docs[mof_name].update({\"has_complete_output\": True, \"is_mof\": is_mof_init})\n",
    "        continue\n",
    "\n",
    "    if not (zeopp_final := mof_run.get(\"zeo++ mace-relaxed structure\", {})):\n",
    "        docs[mof_name].update({\"has_complete_output\": False, \"is_mof\": is_mof_init})\n",
    "        continue\n",
    "\n",
    "    docs[mof_name].update(\n",
    "        {\"has_complete_output\": True, \"is_mof\": zeopp_final.get(\"is_mof\", False)}\n",
    "    )\n",
    "\n",
    "n_tot = len(docs)\n",
    "n_complete = len(\n",
    "    [mof_name for mof_name in docs if docs[mof_name][\"has_complete_output\"]]\n",
    ")\n",
    "n_is_mof = len([mof_name for mof_name in docs if docs[mof_name][\"is_mof\"]])\n",
    "\n",
    "no_longer_mof = []\n",
    "for mof_name, doc in docs.items():\n",
    "    if not all(\n",
    "        k in doc for k in [\"zeo++ input structure\", \"zeo++ mace-relaxed structure\"]\n",
    "    ):\n",
    "        continue\n",
    "    if (\n",
    "        doc[\"zeo++ input structure\"][\"is_mof\"]\n",
    "        and not doc[\"zeo++ mace-relaxed structure\"]\n",
    "    ):\n",
    "        no_longer_mof.append(mof_name)\n",
    "\n",
    "print(\n",
    "    f\"{n_complete} workflows have complete output from {n_tot} total.\\n\"\n",
    "    f\"{n_is_mof} are MOFs.\\n\"\n",
    ")\n",
    "if (n_no_longer_mof := len(no_longer_mof)) > 0:\n",
    "    print(\n",
    "        f\"{len(no_longer_mof)} were MOFs prior to relaxation with MACE and now are no longer MOFs.\"\n",
    "    )\n",
    "\n",
    "dumpfn(docs, os.path.join(output_dir, \"mof_discovery_docs.json.gz\"))"
   ]
  }
 ],
 "metadata": {
  "language_info": {
   "codemirror_mode": {
    "name": "ipython",
    "version": 3
   },
   "file_extension": ".py",
   "mimetype": "text/x-python",
   "name": "python",
   "nbconvert_exporter": "python",
   "pygments_lexer": "ipython3",
   "version": "3.11.0"
  }
 },
 "nbformat": 4,
 "nbformat_minor": 2
}
