{
 "cells": [
  {
   "cell_type": "code",
   "execution_count": 1,
   "metadata": {},
   "outputs": [],
   "source": [
    "from __future__ import annotations\n",
    "from pymatgen.core import Structure\n",
    "\n",
    "from zeopp_mace_wf import MofDiscovery\n",
    "\n",
    "def get_uuid_from_job(job, dct):\n",
    "    if hasattr(job,\"jobs\"):\n",
    "        for j in job.jobs:\n",
    "            get_uuid_from_job(j,dct)\n",
    "    else:\n",
    "        dct[job.uuid] = job.name"
   ]
  },
  {
   "cell_type": "code",
   "execution_count": 2,
   "metadata": {},
   "outputs": [],
   "source": [
    "def _adk_debug_locally(\n",
    "    cif_name : str = \"IRMOF-1.cif\"\n",
    ") -> dict:\n",
    "    from jobflow import run_locally, Response\n",
    "\n",
    "    structure = Structure.from_file(cif_name)\n",
    "    mdj = MofDiscovery(zeopp_nproc = 3).make(structure = structure)\n",
    "\n",
    "    response = run_locally(mdj)\n",
    "    uuid_to_name = get_uuid_from_response(mdj, response)\n",
    "\n",
    "    return {\n",
    "        name: response.get(uuid)[1] \n",
    "        for uuid, name in uuid_to_name.items() \n",
    "        if not isinstance(response[uuid],Response)\n",
    "    } \n",
    "   \n",
    "def _adk_debug_remotely(\n",
    "    cif_names : str | list[str] = \"IRMOF-1.cif\",\n",
    "    lpad_file : str = \"/Users/aaronkaplan/fw_config/wf_dev/my_launchpad.yaml\"\n",
    ") -> None:\n",
    "    from fireworks import LaunchPad\n",
    "    from jobflow.managers.fireworks import flow_to_workflow\n",
    "\n",
    "    if isinstance(cif_names,str):\n",
    "        cif_names = [cif_names]\n",
    "    \n",
    "    wfs = []\n",
    "    for cif_name in cif_names:\n",
    "\n",
    "        try:\n",
    "            structure = Structure.from_file(cif_name)\n",
    "        except Exception:\n",
    "            print(f\"Could not parse CIF {cif_name}\")\n",
    "            continue\n",
    "        \n",
    "        mdj = MofDiscovery(zeopp_nproc = 3).make(structure = structure)\n",
    "\n",
    "        mof_name = cif_name.split(\"/\")[-1].split(\".cif\")[0]\n",
    "        job_meta = {\"MOF\": mof_name, \"job_info\": \"mof discovery\"}\n",
    "\n",
    "        mdj.update_metadata( job_meta)\n",
    "        mdj.append_name( mof_name + \" \",prepend=True)\n",
    "\n",
    "        fw = flow_to_workflow(mdj)\n",
    "        fw.metadata = job_meta\n",
    "        wfs.append(fw)\n",
    "    \n",
    "    lpad = LaunchPad.from_file(lpad_file)\n",
    "    lpad.bulk_add_wfs(wfs)"
   ]
  },
  {
   "cell_type": "code",
   "execution_count": 4,
   "metadata": {},
   "outputs": [
    {
     "name": "stderr",
     "output_type": "stream",
     "text": [
      "/Users/aaronkaplan/miniconda3/envs/mof/lib/python3.11/site-packages/pymatgen/io/cif.py:1225: UserWarning: Issues encountered while parsing CIF: 1 fractional coordinates rounded to ideal values to avoid issues with finite precision.\n",
      "  warnings.warn(\"Issues encountered while parsing CIF: \" + \"\\n\".join(self.warnings))\n",
      "100%|██████████| 100/100 [00:00<00:00, 96420.78it/s]\n"
     ]
    }
   ],
   "source": [
    "from glob import glob\n",
    "\n",
    "cifs_111950599 = glob(\"../111950599/*.cif\")\n",
    "\n",
    "_adk_debug_remotely(cif_names=cifs_111950599[:100])"
   ]
  },
  {
   "cell_type": "code",
   "execution_count": null,
   "metadata": {},
   "outputs": [],
   "source": [
    "def tji_run_all_cifs(\n",
    "    cif_path : str = \"/home/theoj/project/diffusion/diffusion_MOF_v1/\",\n",
    "    lpad_path : str = \"/home/theoj/fw_config/my_launchpad.yaml\", #\"/global/homes/t/theoj/fw_configs/zeopp/my_launchpad.yaml\"\n",
    ") -> None:\n",
    "    from fireworks import LaunchPad\n",
    "    from glob import glob\n",
    "    from jobflow.managers.fireworks import flow_to_workflow\n",
    "\n",
    "    list_cif = glob(f\"{cif_path}/*.cif\")\n",
    "    wfs = []\n",
    "    for cif in list_cif[:1]:\n",
    "        mof_name = cif.split(\"/\")[-1].split(\".\")[0]\n",
    "        job_meta = {\"MOF\": mof_name, \"job_info\": \"mof discovery\"}\n",
    "        structure = Structure.from_file(cif)\n",
    "        mdj = MofDiscovery(\n",
    "            zeopp_nproc = 3\n",
    "        ).make(\n",
    "            structure = structure,\n",
    "        )\n",
    "        mdj.update_metadata( job_meta)\n",
    "        mdj.append_name( mof_name + \" \",prepend=True)\n",
    "\n",
    "        fw = flow_to_workflow(mdj)\n",
    "        fw.metadata = job_meta\n",
    "        wfs.append(fw)\n",
    "\n",
    "    \n",
    "    lpad = LaunchPad.from_file(lpad_path)\n",
    "    lpad.bulk_add_wfs(wfs)"
   ]
  }
 ],
 "metadata": {
  "kernelspec": {
   "display_name": "mof",
   "language": "python",
   "name": "python3"
  },
  "language_info": {
   "codemirror_mode": {
    "name": "ipython",
    "version": 3
   },
   "file_extension": ".py",
   "mimetype": "text/x-python",
   "name": "python",
   "nbconvert_exporter": "python",
   "pygments_lexer": "ipython3",
   "version": "3.11.0"
  }
 },
 "nbformat": 4,
 "nbformat_minor": 2
}
