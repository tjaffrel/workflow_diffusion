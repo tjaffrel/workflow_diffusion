{
 "cells": [
  {
   "cell_type": "markdown",
   "metadata": {},
   "source": [
    "See the [fireworks documentation](https://github.com/materialsproject/fireworks/blob/e37cd8ceef1b4696f4ea821ae7e209b93532f080/fw_tutorials/worker/my_launchpad.yaml#L4) for an example of how the `my_launchpad.yaml` file is set up\n",
    "\n",
    "The key piece here is obtaining a MongoDB client with atomate2 outputs as a collection"
   ]
  },
  {
   "cell_type": "code",
   "execution_count": null,
   "metadata": {},
   "outputs": [],
   "source": [
    "from pymongo import MongoClient\n",
    "import yaml\n",
    "from monty.serialization import loadfn, dumpfn\n",
    "from pathlib import Path\n",
    "import os\n",
    "import plotly.graph_objects as go\n",
    "\n",
    "from seaborn import color_palette\n",
    "\n",
    "with open(\"/path/to/fireworks/like/my_launchpad.yaml\", \"r\") as f:\n",
    "    client = MongoClient(**yaml.load(f, Loader=yaml.Loader))\n",
    "db = client.mp_matgen\n",
    "wf_collec = db.mof_diff_data\n",
    "\n",
    "output_dir = Path(\"mof_workflows\")\n",
    "if not output_dir.exists():\n",
    "    output_dir.mkdir(exist_ok=True, parents=True)"
   ]
  },
  {
   "cell_type": "markdown",
   "metadata": {},
   "source": [
    "The first few steps obtain the range of valid CIF identifiers used in the calculations"
   ]
  },
  {
   "cell_type": "code",
   "execution_count": null,
   "metadata": {},
   "outputs": [],
   "source": [
    "query = {\n",
    "    \"metadata.job_info\": \"mof discovery v2\",\n",
    "    \"$or\": [\n",
    "        {\"output.structure\": {\"$exists\": True}},\n",
    "        {\"output.is_mof\": {\"$exists\": True}},\n",
    "    ],\n",
    "}\n",
    "projections = {\n",
    "    k: 1\n",
    "    for k in [\n",
    "        \"name\",\n",
    "        \"metadata\",\n",
    "        *[f\"output.{p}\" for p in (\"structure\", \"is_mof\", \"energy\", \"N2\", \"H2O\", \"CO2\")],\n",
    "    ]\n",
    "}"
   ]
  },
  {
   "cell_type": "code",
   "execution_count": null,
   "metadata": {},
   "outputs": [],
   "source": [
    "mofs = set()\n",
    "wf_steps = set()\n",
    "cif_collec = set()\n",
    "for wf_meta in wf_collec.find(query, {\"_id\": 1, \"name\": 1, \"metadata.cif_ext\": 1}):\n",
    "    wf_name = wf_meta[\"name\"]\n",
    "    mof_name = wf_name.split()[0]\n",
    "    wf_step = wf_name.split(f\"{mof_name} \")[-1]\n",
    "    mofs.update({mof_name})\n",
    "    wf_steps.update({wf_step})\n",
    "    cif_collec.update({wf_meta[\"metadata\"][\"cif_ext\"]})\n",
    "dumpfn(\n",
    "    {\"cif_ext\": list(cif_collec), \"wf_steps\": list(wf_steps), \"mof_ids\": list(mofs)},\n",
    "    \"wf_meta.json.gz\",\n",
    ")"
   ]
  },
  {
   "cell_type": "code",
   "execution_count": null,
   "metadata": {},
   "outputs": [],
   "source": [
    "wf_meta = loadfn(\"wf_meta.json.gz\")"
   ]
  },
  {
   "cell_type": "code",
   "execution_count": null,
   "metadata": {},
   "outputs": [],
   "source": [
    "out_path = Path(\"mof_workflows/by_cif_ext\")\n",
    "if not out_path.exists():\n",
    "    out_path.mkdir(exist_ok=True, parents=True)\n",
    "\n",
    "for cif_collec in wf_meta[\"cif_ext\"]:\n",
    "    collec_docs = {}\n",
    "    print(cif_collec)\n",
    "    mof_docs = {}\n",
    "    for doc in wf_collec.find({**query, \"metadata.cif_ext\": cif_collec}, projections):\n",
    "        mof = doc[\"metadata\"][\"MOF\"]\n",
    "        job_name = None\n",
    "        for wf_step in wf_meta[\"wf_steps\"]:\n",
    "            if wf_step in doc[\"name\"]:\n",
    "                job_name = wf_step\n",
    "                break\n",
    "\n",
    "        if mof not in collec_docs:\n",
    "            collec_docs[mof] = {}\n",
    "\n",
    "        if (idfr := wf_step) in collec_docs[mof]:\n",
    "            for idx in range(len(collec_docs[mof])):\n",
    "                if (new_idfr := f\"{idfr}_{idx}\") not in collec_docs[mof]:\n",
    "                    idfr = new_idfr\n",
    "                    break\n",
    "        collec_docs[mof][idfr] = doc[\"output\"]\n",
    "\n",
    "    dumpfn(collec_docs, out_path / f\"{cif_collec}.json.gz\")"
   ]
  },
  {
   "cell_type": "markdown",
   "metadata": {},
   "source": [
    "Now we query MongoDB for each step of the workflow"
   ]
  },
  {
   "cell_type": "code",
   "execution_count": null,
   "metadata": {},
   "outputs": [],
   "source": [
    "ordered_wf_steps = {\n",
    "    \"zeo++ input structure\": \"Zeo++ on diffusion structure\",\n",
    "    \"MACE relax\": \"MACE(-MP-0 relaxation\",\n",
    "    \"zeo++ mace-relaxed structure\": \"Zeo++ on MACE-relaxed structure\",\n",
    "    \"gfn-xtb relax\": \"GFN1-xTB relaxation\",\n",
    "}"
   ]
  },
  {
   "cell_type": "code",
   "execution_count": null,
   "metadata": {},
   "outputs": [],
   "source": [
    "if (mof_wf_comp_file := Path(\"mof_wf_step_completion.json.gz\")).exists():\n",
    "    mof_completion = loadfn(mof_wf_comp_file)\n",
    "else:\n",
    "    mof_idxs = set()\n",
    "    mof_completion = {wf_step.replace(\"<br>\", \" \"): [] for wf_step in ordered_wf_steps}\n",
    "\n",
    "    for f in sorted(\n",
    "        Path(output_dir / \"by_cif_ext\").glob(\"*.json.gz\"), key=os.path.getsize\n",
    "    ):\n",
    "        cif_ext = f.name.split(\"\".join(f.suffixes))[0]\n",
    "        for mof, entries in loadfn(f, cls=None).items():\n",
    "            mof_idx = f\"{cif_ext}.{mof}\"\n",
    "            if mof_idx in mof_idxs:\n",
    "                for i in range(len(mof_idxs)):\n",
    "                    if (new_idx := f\"{mof_idx}.{i}\") not in mof_idxs:\n",
    "                        mof_idx = new_idx\n",
    "                        break\n",
    "            mof_idxs.update({mof_idx})\n",
    "            for wf_step in entries:\n",
    "                mof_completion[wf_step].append(mof_idx)\n",
    "    dumpfn(mof_completion, mof_wf_comp_file)"
   ]
  },
  {
   "cell_type": "markdown",
   "metadata": {},
   "source": [
    "The following will create a plot of the number of MOF structures which have successfully completed each step of the screening pipeline"
   ]
  },
  {
   "cell_type": "code",
   "execution_count": null,
   "metadata": {},
   "outputs": [],
   "source": [
    "labels = {\n",
    "    \"zeo++ input structure\": \"Zeo++ on<br>diffusion structure\",\n",
    "    \"MACE relax\": \"MACE(-MP-0)<br>relaxation\",\n",
    "    \"zeo++ mace-relaxed structure\": \"Zeo++ on<br>MACE-relaxed<br>structure\",\n",
    "    \"gfn-xtb relax\": \"GFN1-xTB relaxation\",\n",
    "}\n",
    "\n",
    "data = [[labels[k], len(mof_completion[k])] for k, v in ordered_wf_steps.items()]\n",
    "\n",
    "lbls = [v[0] for v in data[:-1]]\n",
    "pctgs = [100 * v[1] / data[0][1] for v in data[1:]]"
   ]
  },
  {
   "cell_type": "code",
   "execution_count": null,
   "metadata": {},
   "outputs": [],
   "source": [
    "base_axis_opts = {\n",
    "    \"title_font_size\": 32,\n",
    "    \"title_font_color\": \"black\",\n",
    "    \"tickfont_color\": \"black\",\n",
    "    \"tickfont_size\": 28,\n",
    "    \"title_font_family\": \"Arial\",\n",
    "}\n",
    "\n",
    "colors = [\n",
    "    f\"rgb({cstr})\"\n",
    "    for cstr in [\",\".join(str(f) for f in v) for v in color_palette(\"colorblind\")]\n",
    "]\n",
    "\n",
    "\n",
    "fig = go.Figure()\n",
    "fig.add_trace(\n",
    "    go.Bar(\n",
    "        x=lbls,\n",
    "        y=pctgs,\n",
    "        marker_color=colors[0],\n",
    "        text=[\n",
    "            f\"{v:.1f}%\" + (\"\" if i > 0 else f\"<br>of {data[0][1]}<br>structures\")\n",
    "            for i, v in enumerate(pctgs)\n",
    "        ],\n",
    "        textfont_size=32,\n",
    "        textfont_family=\"Arial\",\n",
    "    )\n",
    ")\n",
    "\n",
    "h = 800\n",
    "aspect_ratio = 7 / 5\n",
    "fig.update_layout(\n",
    "    height=h,\n",
    "    width=h * aspect_ratio,\n",
    "    yaxis={\n",
    "        \"title_text\": \"Percentage of Structures (%)\",\n",
    "        \"showline\": True,\n",
    "        \"linecolor\": \"black\",\n",
    "        \"linewidth\": 2,\n",
    "        # \"type\": \"log\",\n",
    "        **base_axis_opts,\n",
    "    },\n",
    "    xaxis={\n",
    "        \"showline\": True,\n",
    "        \"linecolor\": \"black\",\n",
    "        \"linewidth\": 2,\n",
    "        \"tickangle\": 0,\n",
    "        **base_axis_opts,\n",
    "    },\n",
    "    margin={\"t\": 0, \"r\": 0, \"b\": 0, \"l\": 0},\n",
    "    bargroupgap=0.1,\n",
    "    bargap=0.0,\n",
    "    plot_bgcolor=\"rgba(0,0,0,0)\",\n",
    "    paper_bgcolor=\"rgba(0,0,0,0)\",\n",
    ")\n",
    "# fig.show()\n",
    "fig.write_image(\"workflow_completion.pdf\", scale=3)"
   ]
  }
 ],
 "metadata": {
  "language_info": {
   "codemirror_mode": {
    "name": "ipython",
    "version": 3
   },
   "file_extension": ".py",
   "mimetype": "text/x-python",
   "name": "python",
   "nbconvert_exporter": "python",
   "pygments_lexer": "ipython3",
   "version": "3.11.0"
  }
 },
 "nbformat": 4,
 "nbformat_minor": 4
}
